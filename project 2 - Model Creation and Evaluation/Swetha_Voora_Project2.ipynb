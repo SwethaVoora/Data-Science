{
 "cells": [
  {
   "cell_type": "markdown",
   "id": "c42f8707",
   "metadata": {},
   "source": [
    "# Importing the Necessary packages"
   ]
  },
  {
   "cell_type": "code",
   "execution_count": 1,
   "id": "8a1ff03d",
   "metadata": {},
   "outputs": [],
   "source": [
    "import pandas as pd\n",
    "import numpy as np\n",
    "import matplotlib.pyplot as plt\n",
    "import seaborn as sns\n",
    "from scipy import stats\n",
    "from sklearn.model_selection import train_test_split\n",
    "from sklearn.metrics import accuracy_score, precision_score, recall_score, f1_score, classification_report\n",
    "from sklearn.metrics import confusion_matrix,roc_curve, auc"
   ]
  },
  {
   "cell_type": "markdown",
   "id": "d4d3d9bd",
   "metadata": {},
   "source": [
    "## Reading the final csv from project1\n",
    "\n",
    "- Project1.csv is the result of Exploratory Data Analysis and Feature Engineering in project 1."
   ]
  },
  {
   "cell_type": "code",
   "execution_count": 2,
   "id": "2e7e790e",
   "metadata": {},
   "outputs": [
    {
     "data": {
      "text/html": [
       "<div>\n",
       "<style scoped>\n",
       "    .dataframe tbody tr th:only-of-type {\n",
       "        vertical-align: middle;\n",
       "    }\n",
       "\n",
       "    .dataframe tbody tr th {\n",
       "        vertical-align: top;\n",
       "    }\n",
       "\n",
       "    .dataframe thead th {\n",
       "        text-align: right;\n",
       "    }\n",
       "</style>\n",
       "<table border=\"1\" class=\"dataframe\">\n",
       "  <thead>\n",
       "    <tr style=\"text-align: right;\">\n",
       "      <th></th>\n",
       "      <th>tenure</th>\n",
       "      <th>MonthlyCharges</th>\n",
       "      <th>TotalCharges</th>\n",
       "      <th>Churn</th>\n",
       "      <th>gender_Female</th>\n",
       "      <th>gender_Male</th>\n",
       "      <th>SeniorCitizen_No</th>\n",
       "      <th>SeniorCitizen_Yes</th>\n",
       "      <th>Partner_No</th>\n",
       "      <th>Partner_Yes</th>\n",
       "      <th>...</th>\n",
       "      <th>StreamingMovies_Yes</th>\n",
       "      <th>Contract_Month-to-month</th>\n",
       "      <th>Contract_One year</th>\n",
       "      <th>Contract_Two year</th>\n",
       "      <th>PaperlessBilling_No</th>\n",
       "      <th>PaperlessBilling_Yes</th>\n",
       "      <th>PaymentMethod_Bank transfer (automatic)</th>\n",
       "      <th>PaymentMethod_Credit card (automatic)</th>\n",
       "      <th>PaymentMethod_Electronic check</th>\n",
       "      <th>PaymentMethod_Mailed check</th>\n",
       "    </tr>\n",
       "  </thead>\n",
       "  <tbody>\n",
       "    <tr>\n",
       "      <th>0</th>\n",
       "      <td>1</td>\n",
       "      <td>29.85</td>\n",
       "      <td>29.85</td>\n",
       "      <td>No</td>\n",
       "      <td>1</td>\n",
       "      <td>0</td>\n",
       "      <td>1</td>\n",
       "      <td>0</td>\n",
       "      <td>0</td>\n",
       "      <td>1</td>\n",
       "      <td>...</td>\n",
       "      <td>0</td>\n",
       "      <td>1</td>\n",
       "      <td>0</td>\n",
       "      <td>0</td>\n",
       "      <td>0</td>\n",
       "      <td>1</td>\n",
       "      <td>0</td>\n",
       "      <td>0</td>\n",
       "      <td>1</td>\n",
       "      <td>0</td>\n",
       "    </tr>\n",
       "    <tr>\n",
       "      <th>1</th>\n",
       "      <td>34</td>\n",
       "      <td>56.95</td>\n",
       "      <td>1889.50</td>\n",
       "      <td>No</td>\n",
       "      <td>0</td>\n",
       "      <td>1</td>\n",
       "      <td>1</td>\n",
       "      <td>0</td>\n",
       "      <td>1</td>\n",
       "      <td>0</td>\n",
       "      <td>...</td>\n",
       "      <td>0</td>\n",
       "      <td>0</td>\n",
       "      <td>1</td>\n",
       "      <td>0</td>\n",
       "      <td>1</td>\n",
       "      <td>0</td>\n",
       "      <td>0</td>\n",
       "      <td>0</td>\n",
       "      <td>0</td>\n",
       "      <td>1</td>\n",
       "    </tr>\n",
       "    <tr>\n",
       "      <th>2</th>\n",
       "      <td>2</td>\n",
       "      <td>53.85</td>\n",
       "      <td>108.15</td>\n",
       "      <td>Yes</td>\n",
       "      <td>0</td>\n",
       "      <td>1</td>\n",
       "      <td>1</td>\n",
       "      <td>0</td>\n",
       "      <td>1</td>\n",
       "      <td>0</td>\n",
       "      <td>...</td>\n",
       "      <td>0</td>\n",
       "      <td>1</td>\n",
       "      <td>0</td>\n",
       "      <td>0</td>\n",
       "      <td>0</td>\n",
       "      <td>1</td>\n",
       "      <td>0</td>\n",
       "      <td>0</td>\n",
       "      <td>0</td>\n",
       "      <td>1</td>\n",
       "    </tr>\n",
       "    <tr>\n",
       "      <th>3</th>\n",
       "      <td>45</td>\n",
       "      <td>42.30</td>\n",
       "      <td>1840.75</td>\n",
       "      <td>No</td>\n",
       "      <td>0</td>\n",
       "      <td>1</td>\n",
       "      <td>1</td>\n",
       "      <td>0</td>\n",
       "      <td>1</td>\n",
       "      <td>0</td>\n",
       "      <td>...</td>\n",
       "      <td>0</td>\n",
       "      <td>0</td>\n",
       "      <td>1</td>\n",
       "      <td>0</td>\n",
       "      <td>1</td>\n",
       "      <td>0</td>\n",
       "      <td>1</td>\n",
       "      <td>0</td>\n",
       "      <td>0</td>\n",
       "      <td>0</td>\n",
       "    </tr>\n",
       "    <tr>\n",
       "      <th>4</th>\n",
       "      <td>2</td>\n",
       "      <td>70.70</td>\n",
       "      <td>151.65</td>\n",
       "      <td>Yes</td>\n",
       "      <td>1</td>\n",
       "      <td>0</td>\n",
       "      <td>1</td>\n",
       "      <td>0</td>\n",
       "      <td>1</td>\n",
       "      <td>0</td>\n",
       "      <td>...</td>\n",
       "      <td>0</td>\n",
       "      <td>1</td>\n",
       "      <td>0</td>\n",
       "      <td>0</td>\n",
       "      <td>0</td>\n",
       "      <td>1</td>\n",
       "      <td>0</td>\n",
       "      <td>0</td>\n",
       "      <td>1</td>\n",
       "      <td>0</td>\n",
       "    </tr>\n",
       "  </tbody>\n",
       "</table>\n",
       "<p>5 rows × 47 columns</p>\n",
       "</div>"
      ],
      "text/plain": [
       "   tenure  MonthlyCharges  TotalCharges Churn  gender_Female  gender_Male  \\\n",
       "0       1           29.85         29.85    No              1            0   \n",
       "1      34           56.95       1889.50    No              0            1   \n",
       "2       2           53.85        108.15   Yes              0            1   \n",
       "3      45           42.30       1840.75    No              0            1   \n",
       "4       2           70.70        151.65   Yes              1            0   \n",
       "\n",
       "   SeniorCitizen_No  SeniorCitizen_Yes  Partner_No  Partner_Yes  ...  \\\n",
       "0                 1                  0           0            1  ...   \n",
       "1                 1                  0           1            0  ...   \n",
       "2                 1                  0           1            0  ...   \n",
       "3                 1                  0           1            0  ...   \n",
       "4                 1                  0           1            0  ...   \n",
       "\n",
       "   StreamingMovies_Yes  Contract_Month-to-month  Contract_One year  \\\n",
       "0                    0                        1                  0   \n",
       "1                    0                        0                  1   \n",
       "2                    0                        1                  0   \n",
       "3                    0                        0                  1   \n",
       "4                    0                        1                  0   \n",
       "\n",
       "   Contract_Two year  PaperlessBilling_No  PaperlessBilling_Yes  \\\n",
       "0                  0                    0                     1   \n",
       "1                  0                    1                     0   \n",
       "2                  0                    0                     1   \n",
       "3                  0                    1                     0   \n",
       "4                  0                    0                     1   \n",
       "\n",
       "   PaymentMethod_Bank transfer (automatic)  \\\n",
       "0                                        0   \n",
       "1                                        0   \n",
       "2                                        0   \n",
       "3                                        1   \n",
       "4                                        0   \n",
       "\n",
       "   PaymentMethod_Credit card (automatic)  PaymentMethod_Electronic check  \\\n",
       "0                                      0                               1   \n",
       "1                                      0                               0   \n",
       "2                                      0                               0   \n",
       "3                                      0                               0   \n",
       "4                                      0                               1   \n",
       "\n",
       "   PaymentMethod_Mailed check  \n",
       "0                           0  \n",
       "1                           1  \n",
       "2                           1  \n",
       "3                           0  \n",
       "4                           0  \n",
       "\n",
       "[5 rows x 47 columns]"
      ]
     },
     "execution_count": 2,
     "metadata": {},
     "output_type": "execute_result"
    }
   ],
   "source": [
    "data = pd.read_csv('Project1.csv')\n",
    "data.head()"
   ]
  },
  {
   "cell_type": "markdown",
   "id": "3163f537",
   "metadata": {},
   "source": [
    "## Prep the Data\n",
    "### Setting the Independent Features and Target Variable"
   ]
  },
  {
   "cell_type": "code",
   "execution_count": 3,
   "id": "9d4c8404",
   "metadata": {},
   "outputs": [],
   "source": [
    "X, y = data.drop('Churn', axis=1), data['Churn']"
   ]
  },
  {
   "cell_type": "code",
   "execution_count": 4,
   "id": "ff413e82",
   "metadata": {},
   "outputs": [
    {
     "data": {
      "text/plain": [
       "Index(['tenure', 'MonthlyCharges', 'TotalCharges', 'gender_Female',\n",
       "       'gender_Male', 'SeniorCitizen_No', 'SeniorCitizen_Yes', 'Partner_No',\n",
       "       'Partner_Yes', 'Dependents_No', 'Dependents_Yes', 'PhoneService_No',\n",
       "       'PhoneService_Yes', 'MultipleLines_No',\n",
       "       'MultipleLines_No phone service', 'MultipleLines_Yes',\n",
       "       'InternetService_DSL', 'InternetService_Fiber optic',\n",
       "       'InternetService_No', 'OnlineSecurity_No',\n",
       "       'OnlineSecurity_No internet service', 'OnlineSecurity_Yes',\n",
       "       'OnlineBackup_No', 'OnlineBackup_No internet service',\n",
       "       'OnlineBackup_Yes', 'DeviceProtection_No',\n",
       "       'DeviceProtection_No internet service', 'DeviceProtection_Yes',\n",
       "       'TechSupport_No', 'TechSupport_No internet service', 'TechSupport_Yes',\n",
       "       'StreamingTV_No', 'StreamingTV_No internet service', 'StreamingTV_Yes',\n",
       "       'StreamingMovies_No', 'StreamingMovies_No internet service',\n",
       "       'StreamingMovies_Yes', 'Contract_Month-to-month', 'Contract_One year',\n",
       "       'Contract_Two year', 'PaperlessBilling_No', 'PaperlessBilling_Yes',\n",
       "       'PaymentMethod_Bank transfer (automatic)',\n",
       "       'PaymentMethod_Credit card (automatic)',\n",
       "       'PaymentMethod_Electronic check', 'PaymentMethod_Mailed check'],\n",
       "      dtype='object')"
      ]
     },
     "execution_count": 4,
     "metadata": {},
     "output_type": "execute_result"
    }
   ],
   "source": [
    "X.columns"
   ]
  },
  {
   "cell_type": "markdown",
   "id": "d4a4ebe1",
   "metadata": {},
   "source": [
    "# Train_Test_split(80/20 ratio)"
   ]
  },
  {
   "cell_type": "code",
   "execution_count": 5,
   "id": "f2361c9f",
   "metadata": {},
   "outputs": [],
   "source": [
    "# Split the dataset into training and test sets (80/20 ratio)\n",
    "X_train, X_test, y_train, y_test = train_test_split(X, y, test_size=0.2, random_state=42)\n"
   ]
  },
  {
   "cell_type": "markdown",
   "id": "76b287c4",
   "metadata": {},
   "source": [
    "### X_test is the test set of independent variables for which we will predict the target variable"
   ]
  },
  {
   "cell_type": "code",
   "execution_count": 6,
   "id": "dd539c22",
   "metadata": {},
   "outputs": [
    {
     "data": {
      "text/html": [
       "<div>\n",
       "<style scoped>\n",
       "    .dataframe tbody tr th:only-of-type {\n",
       "        vertical-align: middle;\n",
       "    }\n",
       "\n",
       "    .dataframe tbody tr th {\n",
       "        vertical-align: top;\n",
       "    }\n",
       "\n",
       "    .dataframe thead th {\n",
       "        text-align: right;\n",
       "    }\n",
       "</style>\n",
       "<table border=\"1\" class=\"dataframe\">\n",
       "  <thead>\n",
       "    <tr style=\"text-align: right;\">\n",
       "      <th></th>\n",
       "      <th>tenure</th>\n",
       "      <th>MonthlyCharges</th>\n",
       "      <th>TotalCharges</th>\n",
       "      <th>gender_Female</th>\n",
       "      <th>gender_Male</th>\n",
       "      <th>SeniorCitizen_No</th>\n",
       "      <th>SeniorCitizen_Yes</th>\n",
       "      <th>Partner_No</th>\n",
       "      <th>Partner_Yes</th>\n",
       "      <th>Dependents_No</th>\n",
       "      <th>...</th>\n",
       "      <th>StreamingMovies_Yes</th>\n",
       "      <th>Contract_Month-to-month</th>\n",
       "      <th>Contract_One year</th>\n",
       "      <th>Contract_Two year</th>\n",
       "      <th>PaperlessBilling_No</th>\n",
       "      <th>PaperlessBilling_Yes</th>\n",
       "      <th>PaymentMethod_Bank transfer (automatic)</th>\n",
       "      <th>PaymentMethod_Credit card (automatic)</th>\n",
       "      <th>PaymentMethod_Electronic check</th>\n",
       "      <th>PaymentMethod_Mailed check</th>\n",
       "    </tr>\n",
       "  </thead>\n",
       "  <tbody>\n",
       "    <tr>\n",
       "      <th>2476</th>\n",
       "      <td>61</td>\n",
       "      <td>25.00</td>\n",
       "      <td>1501.75</td>\n",
       "      <td>0</td>\n",
       "      <td>1</td>\n",
       "      <td>0</td>\n",
       "      <td>1</td>\n",
       "      <td>0</td>\n",
       "      <td>1</td>\n",
       "      <td>1</td>\n",
       "      <td>...</td>\n",
       "      <td>0</td>\n",
       "      <td>0</td>\n",
       "      <td>0</td>\n",
       "      <td>1</td>\n",
       "      <td>1</td>\n",
       "      <td>0</td>\n",
       "      <td>1</td>\n",
       "      <td>0</td>\n",
       "      <td>0</td>\n",
       "      <td>0</td>\n",
       "    </tr>\n",
       "    <tr>\n",
       "      <th>6773</th>\n",
       "      <td>19</td>\n",
       "      <td>24.70</td>\n",
       "      <td>465.85</td>\n",
       "      <td>1</td>\n",
       "      <td>0</td>\n",
       "      <td>1</td>\n",
       "      <td>0</td>\n",
       "      <td>1</td>\n",
       "      <td>0</td>\n",
       "      <td>1</td>\n",
       "      <td>...</td>\n",
       "      <td>0</td>\n",
       "      <td>1</td>\n",
       "      <td>0</td>\n",
       "      <td>0</td>\n",
       "      <td>1</td>\n",
       "      <td>0</td>\n",
       "      <td>1</td>\n",
       "      <td>0</td>\n",
       "      <td>0</td>\n",
       "      <td>0</td>\n",
       "    </tr>\n",
       "    <tr>\n",
       "      <th>6116</th>\n",
       "      <td>13</td>\n",
       "      <td>102.25</td>\n",
       "      <td>1359.00</td>\n",
       "      <td>0</td>\n",
       "      <td>1</td>\n",
       "      <td>1</td>\n",
       "      <td>0</td>\n",
       "      <td>0</td>\n",
       "      <td>1</td>\n",
       "      <td>1</td>\n",
       "      <td>...</td>\n",
       "      <td>1</td>\n",
       "      <td>1</td>\n",
       "      <td>0</td>\n",
       "      <td>0</td>\n",
       "      <td>0</td>\n",
       "      <td>1</td>\n",
       "      <td>0</td>\n",
       "      <td>1</td>\n",
       "      <td>0</td>\n",
       "      <td>0</td>\n",
       "    </tr>\n",
       "    <tr>\n",
       "      <th>3047</th>\n",
       "      <td>37</td>\n",
       "      <td>55.05</td>\n",
       "      <td>2030.75</td>\n",
       "      <td>0</td>\n",
       "      <td>1</td>\n",
       "      <td>1</td>\n",
       "      <td>0</td>\n",
       "      <td>0</td>\n",
       "      <td>1</td>\n",
       "      <td>1</td>\n",
       "      <td>...</td>\n",
       "      <td>0</td>\n",
       "      <td>1</td>\n",
       "      <td>0</td>\n",
       "      <td>0</td>\n",
       "      <td>0</td>\n",
       "      <td>1</td>\n",
       "      <td>0</td>\n",
       "      <td>0</td>\n",
       "      <td>0</td>\n",
       "      <td>1</td>\n",
       "    </tr>\n",
       "    <tr>\n",
       "      <th>4092</th>\n",
       "      <td>6</td>\n",
       "      <td>29.45</td>\n",
       "      <td>161.45</td>\n",
       "      <td>1</td>\n",
       "      <td>0</td>\n",
       "      <td>1</td>\n",
       "      <td>0</td>\n",
       "      <td>1</td>\n",
       "      <td>0</td>\n",
       "      <td>1</td>\n",
       "      <td>...</td>\n",
       "      <td>0</td>\n",
       "      <td>1</td>\n",
       "      <td>0</td>\n",
       "      <td>0</td>\n",
       "      <td>1</td>\n",
       "      <td>0</td>\n",
       "      <td>1</td>\n",
       "      <td>0</td>\n",
       "      <td>0</td>\n",
       "      <td>0</td>\n",
       "    </tr>\n",
       "    <tr>\n",
       "      <th>...</th>\n",
       "      <td>...</td>\n",
       "      <td>...</td>\n",
       "      <td>...</td>\n",
       "      <td>...</td>\n",
       "      <td>...</td>\n",
       "      <td>...</td>\n",
       "      <td>...</td>\n",
       "      <td>...</td>\n",
       "      <td>...</td>\n",
       "      <td>...</td>\n",
       "      <td>...</td>\n",
       "      <td>...</td>\n",
       "      <td>...</td>\n",
       "      <td>...</td>\n",
       "      <td>...</td>\n",
       "      <td>...</td>\n",
       "      <td>...</td>\n",
       "      <td>...</td>\n",
       "      <td>...</td>\n",
       "      <td>...</td>\n",
       "      <td>...</td>\n",
       "    </tr>\n",
       "    <tr>\n",
       "      <th>1728</th>\n",
       "      <td>1</td>\n",
       "      <td>19.05</td>\n",
       "      <td>19.05</td>\n",
       "      <td>0</td>\n",
       "      <td>1</td>\n",
       "      <td>1</td>\n",
       "      <td>0</td>\n",
       "      <td>1</td>\n",
       "      <td>0</td>\n",
       "      <td>1</td>\n",
       "      <td>...</td>\n",
       "      <td>0</td>\n",
       "      <td>1</td>\n",
       "      <td>0</td>\n",
       "      <td>0</td>\n",
       "      <td>1</td>\n",
       "      <td>0</td>\n",
       "      <td>0</td>\n",
       "      <td>0</td>\n",
       "      <td>0</td>\n",
       "      <td>1</td>\n",
       "    </tr>\n",
       "    <tr>\n",
       "      <th>5241</th>\n",
       "      <td>12</td>\n",
       "      <td>94.55</td>\n",
       "      <td>1173.55</td>\n",
       "      <td>0</td>\n",
       "      <td>1</td>\n",
       "      <td>1</td>\n",
       "      <td>0</td>\n",
       "      <td>1</td>\n",
       "      <td>0</td>\n",
       "      <td>1</td>\n",
       "      <td>...</td>\n",
       "      <td>1</td>\n",
       "      <td>1</td>\n",
       "      <td>0</td>\n",
       "      <td>0</td>\n",
       "      <td>1</td>\n",
       "      <td>0</td>\n",
       "      <td>0</td>\n",
       "      <td>0</td>\n",
       "      <td>1</td>\n",
       "      <td>0</td>\n",
       "    </tr>\n",
       "    <tr>\n",
       "      <th>5456</th>\n",
       "      <td>26</td>\n",
       "      <td>56.05</td>\n",
       "      <td>1553.20</td>\n",
       "      <td>1</td>\n",
       "      <td>0</td>\n",
       "      <td>1</td>\n",
       "      <td>0</td>\n",
       "      <td>1</td>\n",
       "      <td>0</td>\n",
       "      <td>1</td>\n",
       "      <td>...</td>\n",
       "      <td>0</td>\n",
       "      <td>0</td>\n",
       "      <td>1</td>\n",
       "      <td>0</td>\n",
       "      <td>0</td>\n",
       "      <td>1</td>\n",
       "      <td>0</td>\n",
       "      <td>0</td>\n",
       "      <td>0</td>\n",
       "      <td>1</td>\n",
       "    </tr>\n",
       "    <tr>\n",
       "      <th>5842</th>\n",
       "      <td>35</td>\n",
       "      <td>110.80</td>\n",
       "      <td>3836.30</td>\n",
       "      <td>1</td>\n",
       "      <td>0</td>\n",
       "      <td>0</td>\n",
       "      <td>1</td>\n",
       "      <td>1</td>\n",
       "      <td>0</td>\n",
       "      <td>1</td>\n",
       "      <td>...</td>\n",
       "      <td>1</td>\n",
       "      <td>0</td>\n",
       "      <td>1</td>\n",
       "      <td>0</td>\n",
       "      <td>0</td>\n",
       "      <td>1</td>\n",
       "      <td>1</td>\n",
       "      <td>0</td>\n",
       "      <td>0</td>\n",
       "      <td>0</td>\n",
       "    </tr>\n",
       "    <tr>\n",
       "      <th>3977</th>\n",
       "      <td>72</td>\n",
       "      <td>25.10</td>\n",
       "      <td>1857.85</td>\n",
       "      <td>1</td>\n",
       "      <td>0</td>\n",
       "      <td>1</td>\n",
       "      <td>0</td>\n",
       "      <td>0</td>\n",
       "      <td>1</td>\n",
       "      <td>0</td>\n",
       "      <td>...</td>\n",
       "      <td>0</td>\n",
       "      <td>0</td>\n",
       "      <td>0</td>\n",
       "      <td>1</td>\n",
       "      <td>1</td>\n",
       "      <td>0</td>\n",
       "      <td>1</td>\n",
       "      <td>0</td>\n",
       "      <td>0</td>\n",
       "      <td>0</td>\n",
       "    </tr>\n",
       "  </tbody>\n",
       "</table>\n",
       "<p>1407 rows × 46 columns</p>\n",
       "</div>"
      ],
      "text/plain": [
       "      tenure  MonthlyCharges  TotalCharges  gender_Female  gender_Male  \\\n",
       "2476      61           25.00       1501.75              0            1   \n",
       "6773      19           24.70        465.85              1            0   \n",
       "6116      13          102.25       1359.00              0            1   \n",
       "3047      37           55.05       2030.75              0            1   \n",
       "4092       6           29.45        161.45              1            0   \n",
       "...      ...             ...           ...            ...          ...   \n",
       "1728       1           19.05         19.05              0            1   \n",
       "5241      12           94.55       1173.55              0            1   \n",
       "5456      26           56.05       1553.20              1            0   \n",
       "5842      35          110.80       3836.30              1            0   \n",
       "3977      72           25.10       1857.85              1            0   \n",
       "\n",
       "      SeniorCitizen_No  SeniorCitizen_Yes  Partner_No  Partner_Yes  \\\n",
       "2476                 0                  1           0            1   \n",
       "6773                 1                  0           1            0   \n",
       "6116                 1                  0           0            1   \n",
       "3047                 1                  0           0            1   \n",
       "4092                 1                  0           1            0   \n",
       "...                ...                ...         ...          ...   \n",
       "1728                 1                  0           1            0   \n",
       "5241                 1                  0           1            0   \n",
       "5456                 1                  0           1            0   \n",
       "5842                 0                  1           1            0   \n",
       "3977                 1                  0           0            1   \n",
       "\n",
       "      Dependents_No  ...  StreamingMovies_Yes  Contract_Month-to-month  \\\n",
       "2476              1  ...                    0                        0   \n",
       "6773              1  ...                    0                        1   \n",
       "6116              1  ...                    1                        1   \n",
       "3047              1  ...                    0                        1   \n",
       "4092              1  ...                    0                        1   \n",
       "...             ...  ...                  ...                      ...   \n",
       "1728              1  ...                    0                        1   \n",
       "5241              1  ...                    1                        1   \n",
       "5456              1  ...                    0                        0   \n",
       "5842              1  ...                    1                        0   \n",
       "3977              0  ...                    0                        0   \n",
       "\n",
       "      Contract_One year  Contract_Two year  PaperlessBilling_No  \\\n",
       "2476                  0                  1                    1   \n",
       "6773                  0                  0                    1   \n",
       "6116                  0                  0                    0   \n",
       "3047                  0                  0                    0   \n",
       "4092                  0                  0                    1   \n",
       "...                 ...                ...                  ...   \n",
       "1728                  0                  0                    1   \n",
       "5241                  0                  0                    1   \n",
       "5456                  1                  0                    0   \n",
       "5842                  1                  0                    0   \n",
       "3977                  0                  1                    1   \n",
       "\n",
       "      PaperlessBilling_Yes  PaymentMethod_Bank transfer (automatic)  \\\n",
       "2476                     0                                        1   \n",
       "6773                     0                                        1   \n",
       "6116                     1                                        0   \n",
       "3047                     1                                        0   \n",
       "4092                     0                                        1   \n",
       "...                    ...                                      ...   \n",
       "1728                     0                                        0   \n",
       "5241                     0                                        0   \n",
       "5456                     1                                        0   \n",
       "5842                     1                                        1   \n",
       "3977                     0                                        1   \n",
       "\n",
       "      PaymentMethod_Credit card (automatic)  PaymentMethod_Electronic check  \\\n",
       "2476                                      0                               0   \n",
       "6773                                      0                               0   \n",
       "6116                                      1                               0   \n",
       "3047                                      0                               0   \n",
       "4092                                      0                               0   \n",
       "...                                     ...                             ...   \n",
       "1728                                      0                               0   \n",
       "5241                                      0                               1   \n",
       "5456                                      0                               0   \n",
       "5842                                      0                               0   \n",
       "3977                                      0                               0   \n",
       "\n",
       "      PaymentMethod_Mailed check  \n",
       "2476                           0  \n",
       "6773                           0  \n",
       "6116                           0  \n",
       "3047                           1  \n",
       "4092                           0  \n",
       "...                          ...  \n",
       "1728                           1  \n",
       "5241                           0  \n",
       "5456                           1  \n",
       "5842                           0  \n",
       "3977                           0  \n",
       "\n",
       "[1407 rows x 46 columns]"
      ]
     },
     "execution_count": 6,
     "metadata": {},
     "output_type": "execute_result"
    }
   ],
   "source": [
    "X_test"
   ]
  },
  {
   "cell_type": "markdown",
   "id": "e1b09584",
   "metadata": {},
   "source": [
    "## Creating Models for the below 6 Classification Algorithms:(With Default Values)\n",
    "- Logistic Regression (LR)\n",
    "- Naive Bayes (NB)\n",
    "     - BernoulliNB\n",
    "- K-Nearest Neighbors (KNN)\n",
    "- Decision Tree (DT)\n",
    "- Random Forest (RF)\n",
    "- XGBoost Algorithm (XGB)\n",
    "\n",
    "\n",
    "##  Run all algorithms with default values and report their model performance on the following metrics:\n",
    "- Accuracy - Measures how often the classifier is correct for both TP and TN = (TP+TN)/total predictions\n",
    "- Precision - Measures how many were actually positive within the total number of those predicted to be\n",
    "positive = TP/(TP+FP)\n",
    "- Recall(SENSITIVITY) - Measures how many times the classsifier got the TP correct = TP/(TP+FN)\n",
    "- Specificity - Measures how many times the classifier got the TN correctly = TN/(TN+FP)\n",
    "- **F1 Harmonic Mean of Precision and Recall - We use this score to measure when we are comparing models**"
   ]
  },
  {
   "cell_type": "markdown",
   "id": "2e39b1e7",
   "metadata": {},
   "source": [
    "## Calculating metrics based on sklearn.metrics methods:"
   ]
  },
  {
   "cell_type": "code",
   "execution_count": 7,
   "id": "84b6040c",
   "metadata": {},
   "outputs": [],
   "source": [
    "def evaluate_model(y_true, y_pred):\n",
    "    accuracy = accuracy_score(y_true, y_pred)\n",
    "    precision = precision_score(y_true, y_pred,pos_label='Yes')\n",
    "    recall = recall_score(y_true, y_pred,pos_label='Yes')\n",
    "    f1 = f1_score(y_true, y_pred,pos_label='Yes')\n",
    "    return \"Accuracy:  \"+ str(accuracy),\"Precision:  \"+ str(precision),\"Recall:  \" +str(recall),\"F1-Score:  \"+ str(f1)"
   ]
  },
  {
   "cell_type": "markdown",
   "id": "6dc6eaed",
   "metadata": {},
   "source": [
    "## Defining a function to Manually Calculate the Metrics:"
   ]
  },
  {
   "cell_type": "code",
   "execution_count": 8,
   "id": "860ebcaa",
   "metadata": {},
   "outputs": [],
   "source": [
    "def manual_model_evaluation(true_negative, false_positive, false_negative, true_positive):\n",
    "    accuracy = (true_positive + true_negative)/len(X_test)\n",
    "    recall = (true_positive)/(true_positive+false_negative)\n",
    "    specificity = (true_negative)/(true_negative+false_positive)\n",
    "    precision = (true_positive)/(true_positive+false_positive)\n",
    "    f1score = (2*precision*recall)/(precision+recall)\n",
    "    return \"Accuracy:  \"+ str(accuracy),\"Precision:  \"+ str(precision),\"Recall:  \" +str(recall),\"Specificity: \"+ str(specificity),\"F1Score: \"+str(f1score)"
   ]
  },
  {
   "cell_type": "markdown",
   "id": "a0838cc7",
   "metadata": {},
   "source": [
    "# 1.Logistic Regression(LR)\n",
    "Logistic Regression is used when the dependent variable(target) is categorical.\n",
    "**Binary Logistic Regression**:The categorical response has only two 2 possible outcomes.(Churn or No Churn)"
   ]
  },
  {
   "cell_type": "code",
   "execution_count": 9,
   "id": "2233d9a3",
   "metadata": {},
   "outputs": [
    {
     "data": {
      "text/plain": [
       "('Accuracy:  0.7882018479033405',\n",
       " 'Precision:  0.6233766233766234',\n",
       " 'Recall:  0.5133689839572193',\n",
       " 'F1-Score:  0.5630498533724341')"
      ]
     },
     "execution_count": 9,
     "metadata": {},
     "output_type": "execute_result"
    }
   ],
   "source": [
    "from sklearn.linear_model import LogisticRegression\n",
    "\n",
    "# Create a logistic regression model\n",
    "LRmodel = LogisticRegression()\n",
    "\n",
    "# Train the model on the training data\n",
    "LRmodel.fit(X_train, y_train)\n",
    "\n",
    "# Make predictions on the test data\n",
    "predictions = LRmodel.predict(X_test)\n",
    "\n",
    "# Evaluating the model\n",
    "evaluate_model(y_test,predictions)"
   ]
  },
  {
   "cell_type": "code",
   "execution_count": 10,
   "id": "81c74528",
   "metadata": {},
   "outputs": [
    {
     "data": {
      "text/plain": [
       "('Accuracy:  0.7882018479033405',\n",
       " 'Precision:  0.6233766233766234',\n",
       " 'Recall:  0.5133689839572193',\n",
       " 'Specificity: 0.8877057115198451',\n",
       " 'F1Score: 0.5630498533724341')"
      ]
     },
     "execution_count": 10,
     "metadata": {},
     "output_type": "execute_result"
    }
   ],
   "source": [
    "# Evaluating the model performance using manual calculation function\n",
    "tn, fp, fn, tp = confusion_matrix(y_test, predictions).ravel()\n",
    "manual_model_evaluation(tn,fp,fn,tp)"
   ]
  },
  {
   "cell_type": "markdown",
   "id": "6a3f4eea",
   "metadata": {},
   "source": [
    "## Creating hierarchical indexing in rows and columns for Confusion Matrix Dataframe"
   ]
  },
  {
   "cell_type": "code",
   "execution_count": 11,
   "id": "c269279f",
   "metadata": {},
   "outputs": [],
   "source": [
    "rows = pd.MultiIndex.from_tuples([('Actual', 'Yes'), ('Actual', 'No')])\n",
    "columns = pd.MultiIndex.from_tuples([('Predicted', 'Yes'), ('Predicted', 'No')])"
   ]
  },
  {
   "cell_type": "code",
   "execution_count": 12,
   "id": "0e40f69d",
   "metadata": {},
   "outputs": [
    {
     "data": {
      "text/html": [
       "<div>\n",
       "<style scoped>\n",
       "    .dataframe tbody tr th:only-of-type {\n",
       "        vertical-align: middle;\n",
       "    }\n",
       "\n",
       "    .dataframe tbody tr th {\n",
       "        vertical-align: top;\n",
       "    }\n",
       "\n",
       "    .dataframe thead tr th {\n",
       "        text-align: left;\n",
       "    }\n",
       "</style>\n",
       "<table border=\"1\" class=\"dataframe\">\n",
       "  <thead>\n",
       "    <tr>\n",
       "      <th></th>\n",
       "      <th></th>\n",
       "      <th colspan=\"2\" halign=\"left\">Predicted</th>\n",
       "    </tr>\n",
       "    <tr>\n",
       "      <th></th>\n",
       "      <th></th>\n",
       "      <th>Yes</th>\n",
       "      <th>No</th>\n",
       "    </tr>\n",
       "  </thead>\n",
       "  <tbody>\n",
       "    <tr>\n",
       "      <th rowspan=\"2\" valign=\"top\">Actual</th>\n",
       "      <th>Yes</th>\n",
       "      <td>917</td>\n",
       "      <td>116</td>\n",
       "    </tr>\n",
       "    <tr>\n",
       "      <th>No</th>\n",
       "      <td>182</td>\n",
       "      <td>192</td>\n",
       "    </tr>\n",
       "  </tbody>\n",
       "</table>\n",
       "</div>"
      ],
      "text/plain": [
       "           Predicted     \n",
       "                 Yes   No\n",
       "Actual Yes       917  116\n",
       "       No        182  192"
      ]
     },
     "execution_count": 12,
     "metadata": {},
     "output_type": "execute_result"
    }
   ],
   "source": [
    "# Show the Confusion Matrix\n",
    "pd.DataFrame(confusion_matrix(y_test, predictions), index=rows, columns=columns)"
   ]
  },
  {
   "cell_type": "markdown",
   "id": "a950c49e",
   "metadata": {},
   "source": [
    "## The Classification Report gives us info about \n",
    "- Text summary of the precision, recall, F1 score for each class.\n",
    "- The reported averages include \n",
    "    - macro average (averaging the unweighted mean per label), \n",
    "    - weighted average (averaging the support-weighted mean per label), \n",
    "    - sample average (only for multilabel classification).**NOT APPLICABLE IN THIS PROBLEM**"
   ]
  },
  {
   "cell_type": "code",
   "execution_count": 13,
   "id": "4d224274",
   "metadata": {},
   "outputs": [
    {
     "name": "stdout",
     "output_type": "stream",
     "text": [
      "\n",
      "Classification Report:\n",
      "               precision    recall  f1-score   support\n",
      "\n",
      "          No       0.83      0.89      0.86      1033\n",
      "         Yes       0.62      0.51      0.56       374\n",
      "\n",
      "    accuracy                           0.79      1407\n",
      "   macro avg       0.73      0.70      0.71      1407\n",
      "weighted avg       0.78      0.79      0.78      1407\n",
      "\n"
     ]
    }
   ],
   "source": [
    " print(f\"\\nClassification Report:\\n\", classification_report(y_test, predictions))"
   ]
  },
  {
   "cell_type": "markdown",
   "id": "4dc3de63",
   "metadata": {},
   "source": [
    "**An ROC curve (receiver operating characteristic curve) is a graph showing the performance of a classification model at all classification thresholds. This curve plots two parameters:**\n",
    "\n",
    "- True Positive Rate(Recall)\n",
    "- False Positive Rate\n",
    "\n",
    "In the context of a binary classification model (which predicts two classes, often denoted as positive and negative), a classification threshold is a value that separates the predicted probabilities into the two classes. \n",
    "\n",
    "## **The closer the ROC curve is to the 45' curve...the less accurate the model is.**"
   ]
  },
  {
   "cell_type": "code",
   "execution_count": 14,
   "id": "da7fef80",
   "metadata": {},
   "outputs": [],
   "source": [
    "# This implementation is restricted to the binary classification task.\n",
    "# ROC Curve\n",
    "LR_fpr, LR_tpr,_ = roc_curve(y_test, LRmodel.predict_proba(X_test)[:, 1],pos_label='Yes')\n",
    "# print(_)"
   ]
  },
  {
   "cell_type": "code",
   "execution_count": 15,
   "id": "3306ea63",
   "metadata": {},
   "outputs": [
    {
     "data": {
      "text/plain": [
       "0.8290788990065796"
      ]
     },
     "execution_count": 15,
     "metadata": {},
     "output_type": "execute_result"
    }
   ],
   "source": [
    "# AUC\n",
    "LR_auc_score = auc(LR_fpr, LR_tpr)\n",
    "LR_auc_score"
   ]
  },
  {
   "cell_type": "code",
   "execution_count": 16,
   "id": "0c6dea0d",
   "metadata": {
    "scrolled": false
   },
   "outputs": [
    {
     "data": {
      "image/png": "[encoded data removed]",
      "text/plain": [
       "<Figure size 500x500 with 1 Axes>"
      ]
     },
     "metadata": {},
     "output_type": "display_data"
    }
   ],
   "source": [
    "# Plot ROC Curve\n",
    "plt.figure(figsize=(5, 5))\n",
    "plt.plot(LR_fpr, LR_tpr, label=f'{LRmodel} (AUC = {LR_auc_score:.2f})')\n",
    "plt.plot([0, 1], [0, 1], 'k--')\n",
    "plt.xlim([0.0, 1.0])\n",
    "plt.ylim([0.0, 1.0])\n",
    "plt.xlabel('False Positive Rate')\n",
    "plt.ylabel('True Positive Rate')\n",
    "plt.title(f'ROC Curve - {LRmodel}')\n",
    "plt.legend(loc=\"lower right\")\n",
    "plt.show()"
   ]
  },
  {
   "cell_type": "markdown",
   "id": "ecaa550b",
   "metadata": {},
   "source": [
    "**AUC stands for \"Area under the ROC Curve.\" That is, AUC measures the entire two-dimensional area underneath the entire ROC curve (think integral calculus) from (0,0) to (1,1).**\n",
    "\n",
    "**AUC ranges in value from 0 to 1. A model whose predictions are 100% wrong has an AUC of 0.0; one whose predictions are 100% correct has an AUC of 1.0.**"
   ]
  },
  {
   "cell_type": "markdown",
   "id": "f4684abe",
   "metadata": {},
   "source": [
    "## Higher the AUC value, better the classifier"
   ]
  },
  {
   "cell_type": "markdown",
   "id": "ebbb4d14",
   "metadata": {},
   "source": [
    "## Naive Bayes(NB)\n",
    "Naive Bayes is a Algorithm which assumes that two features are not correlated and are mutually independent(Occurence of one event does not affect the other event). Hence, the name Naive Bayes.\n",
    "\n",
    "### - BernoulliNB\n",
    "- For a binary classification problem where the target variable has only two labels (e.g., 'Yes'/'No', 1/0), the **BernoulliNB classifier** is generally more appropriate because it models features as binary-valued (boolean) variables. It assumes that all input features are binary, and it works well when dealing with binary features."
   ]
  },
  {
   "cell_type": "code",
   "execution_count": 17,
   "id": "d4f47f3c",
   "metadata": {},
   "outputs": [
    {
     "data": {
      "text/plain": [
       "('Accuracy:  0.6993603411513859',\n",
       " 'Precision:  0.46236559139784944',\n",
       " 'Recall:  0.8048128342245989',\n",
       " 'F1-Score:  0.5873170731707317')"
      ]
     },
     "execution_count": 17,
     "metadata": {},
     "output_type": "execute_result"
    }
   ],
   "source": [
    "from sklearn.naive_bayes import BernoulliNB\n",
    "\n",
    "# Create a Bernoulli Naive Bayes model\n",
    "Bnb_model = BernoulliNB()\n",
    "\n",
    "# Train the model\n",
    "Bnb_model.fit(X_train, y_train)\n",
    "\n",
    "# Make predictions on the test set\n",
    "predictions = Bnb_model.predict(X_test)\n",
    "\n",
    "#Evaluate the model\n",
    "evaluate_model(y_test,predictions)"
   ]
  },
  {
   "cell_type": "code",
   "execution_count": 18,
   "id": "d2e02490",
   "metadata": {},
   "outputs": [
    {
     "data": {
      "text/plain": [
       "('Accuracy:  0.6993603411513859',\n",
       " 'Precision:  0.46236559139784944',\n",
       " 'Recall:  0.8048128342245989',\n",
       " 'Specificity: 0.6611810261374637',\n",
       " 'F1Score: 0.5873170731707317')"
      ]
     },
     "execution_count": 18,
     "metadata": {},
     "output_type": "execute_result"
    }
   ],
   "source": [
    "# Evaluating the model performance using manual calculation function\n",
    "tn, fp, fn, tp = confusion_matrix(y_test, predictions).ravel()\n",
    "manual_model_evaluation(tn,fp,fn,tp)"
   ]
  },
  {
   "cell_type": "code",
   "execution_count": 19,
   "id": "4daedaec",
   "metadata": {},
   "outputs": [
    {
     "data": {
      "text/html": [
       "<div>\n",
       "<style scoped>\n",
       "    .dataframe tbody tr th:only-of-type {\n",
       "        vertical-align: middle;\n",
       "    }\n",
       "\n",
       "    .dataframe tbody tr th {\n",
       "        vertical-align: top;\n",
       "    }\n",
       "\n",
       "    .dataframe thead tr th {\n",
       "        text-align: left;\n",
       "    }\n",
       "</style>\n",
       "<table border=\"1\" class=\"dataframe\">\n",
       "  <thead>\n",
       "    <tr>\n",
       "      <th></th>\n",
       "      <th></th>\n",
       "      <th colspan=\"2\" halign=\"left\">Predicted</th>\n",
       "    </tr>\n",
       "    <tr>\n",
       "      <th></th>\n",
       "      <th></th>\n",
       "      <th>Yes</th>\n",
       "      <th>No</th>\n",
       "    </tr>\n",
       "  </thead>\n",
       "  <tbody>\n",
       "    <tr>\n",
       "      <th rowspan=\"2\" valign=\"top\">Actual</th>\n",
       "      <th>Yes</th>\n",
       "      <td>683</td>\n",
       "      <td>350</td>\n",
       "    </tr>\n",
       "    <tr>\n",
       "      <th>No</th>\n",
       "      <td>73</td>\n",
       "      <td>301</td>\n",
       "    </tr>\n",
       "  </tbody>\n",
       "</table>\n",
       "</div>"
      ],
      "text/plain": [
       "           Predicted     \n",
       "                 Yes   No\n",
       "Actual Yes       683  350\n",
       "       No         73  301"
      ]
     },
     "execution_count": 19,
     "metadata": {},
     "output_type": "execute_result"
    }
   ],
   "source": [
    "# Show the Confusion Matrix\n",
    "pd.DataFrame(confusion_matrix(y_test, predictions), index=rows, columns=columns)"
   ]
  },
  {
   "cell_type": "code",
   "execution_count": 20,
   "id": "b403c48d",
   "metadata": {},
   "outputs": [
    {
     "name": "stdout",
     "output_type": "stream",
     "text": [
      "\n",
      "Classification Report:\n",
      "               precision    recall  f1-score   support\n",
      "\n",
      "          No       0.90      0.66      0.76      1033\n",
      "         Yes       0.46      0.80      0.59       374\n",
      "\n",
      "    accuracy                           0.70      1407\n",
      "   macro avg       0.68      0.73      0.68      1407\n",
      "weighted avg       0.79      0.70      0.72      1407\n",
      "\n"
     ]
    }
   ],
   "source": [
    " print(f\"\\nClassification Report:\\n\", classification_report(y_test, predictions))"
   ]
  },
  {
   "cell_type": "code",
   "execution_count": 21,
   "id": "b245aaa3",
   "metadata": {},
   "outputs": [
    {
     "data": {
      "text/plain": [
       "0.8023176356699504"
      ]
     },
     "execution_count": 21,
     "metadata": {},
     "output_type": "execute_result"
    }
   ],
   "source": [
    "# ROC Curve\n",
    "BNB_fpr, BNB_tpr, _ = roc_curve(y_test, Bnb_model.predict_proba(X_test)[:, 1],pos_label='Yes')\n",
    "# AUC\n",
    "BNB_auc_score = auc(BNB_fpr, BNB_tpr)\n",
    "BNB_auc_score"
   ]
  },
  {
   "cell_type": "markdown",
   "id": "056b3bb8",
   "metadata": {},
   "source": [
    "## K-Nearest Neighbors (KNN)"
   ]
  },
  {
   "cell_type": "code",
   "execution_count": 22,
   "id": "f7a927e4",
   "metadata": {},
   "outputs": [
    {
     "data": {
      "text/plain": [
       "('Accuracy:  0.7697228144989339',\n",
       " 'Precision:  0.5868055555555556',\n",
       " 'Recall:  0.45187165775401067',\n",
       " 'F1-Score:  0.5105740181268882')"
      ]
     },
     "execution_count": 22,
     "metadata": {},
     "output_type": "execute_result"
    }
   ],
   "source": [
    "from sklearn.neighbors import KNeighborsClassifier\n",
    "\n",
    "\n",
    "# Create a KNeighborsClassifier model\n",
    "knn_model = KNeighborsClassifier()\n",
    "\n",
    "# Train the model\n",
    "knn_model.fit(X_train, y_train)\n",
    "\n",
    "# Make predictions on the test set\n",
    "predictions = knn_model.predict(X_test)\n",
    "\n",
    "# Evaluate the model performance\n",
    "evaluate_model(y_test,predictions)"
   ]
  },
  {
   "cell_type": "code",
   "execution_count": 23,
   "id": "48b9f19f",
   "metadata": {},
   "outputs": [
    {
     "data": {
      "text/plain": [
       "('Accuracy:  0.7697228144989339',\n",
       " 'Precision:  0.5868055555555556',\n",
       " 'Recall:  0.45187165775401067',\n",
       " 'Specificity: 0.8848015488867377',\n",
       " 'F1Score: 0.5105740181268882')"
      ]
     },
     "execution_count": 23,
     "metadata": {},
     "output_type": "execute_result"
    }
   ],
   "source": [
    "# Evaluating the model performance using manual calculation function\n",
    "tn, fp, fn, tp = confusion_matrix(y_test, predictions).ravel()\n",
    "manual_model_evaluation(tn,fp,fn,tp)"
   ]
  },
  {
   "cell_type": "code",
   "execution_count": 24,
   "id": "c68067b9",
   "metadata": {},
   "outputs": [
    {
     "data": {
      "text/html": [
       "<div>\n",
       "<style scoped>\n",
       "    .dataframe tbody tr th:only-of-type {\n",
       "        vertical-align: middle;\n",
       "    }\n",
       "\n",
       "    .dataframe tbody tr th {\n",
       "        vertical-align: top;\n",
       "    }\n",
       "\n",
       "    .dataframe thead tr th {\n",
       "        text-align: left;\n",
       "    }\n",
       "</style>\n",
       "<table border=\"1\" class=\"dataframe\">\n",
       "  <thead>\n",
       "    <tr>\n",
       "      <th></th>\n",
       "      <th></th>\n",
       "      <th colspan=\"2\" halign=\"left\">Predicted</th>\n",
       "    </tr>\n",
       "    <tr>\n",
       "      <th></th>\n",
       "      <th></th>\n",
       "      <th>Yes</th>\n",
       "      <th>No</th>\n",
       "    </tr>\n",
       "  </thead>\n",
       "  <tbody>\n",
       "    <tr>\n",
       "      <th rowspan=\"2\" valign=\"top\">Actual</th>\n",
       "      <th>Yes</th>\n",
       "      <td>914</td>\n",
       "      <td>119</td>\n",
       "    </tr>\n",
       "    <tr>\n",
       "      <th>No</th>\n",
       "      <td>205</td>\n",
       "      <td>169</td>\n",
       "    </tr>\n",
       "  </tbody>\n",
       "</table>\n",
       "</div>"
      ],
      "text/plain": [
       "           Predicted     \n",
       "                 Yes   No\n",
       "Actual Yes       914  119\n",
       "       No        205  169"
      ]
     },
     "execution_count": 24,
     "metadata": {},
     "output_type": "execute_result"
    }
   ],
   "source": [
    "# Show the Confusion Matrix\n",
    "pd.DataFrame(confusion_matrix(y_test, predictions), index=rows, columns=columns)"
   ]
  },
  {
   "cell_type": "code",
   "execution_count": 25,
   "id": "0e9dcade",
   "metadata": {},
   "outputs": [
    {
     "name": "stdout",
     "output_type": "stream",
     "text": [
      "\n",
      "Classification Report:\n",
      "               precision    recall  f1-score   support\n",
      "\n",
      "          No       0.82      0.88      0.85      1033\n",
      "         Yes       0.59      0.45      0.51       374\n",
      "\n",
      "    accuracy                           0.77      1407\n",
      "   macro avg       0.70      0.67      0.68      1407\n",
      "weighted avg       0.76      0.77      0.76      1407\n",
      "\n"
     ]
    }
   ],
   "source": [
    "print(f\"\\nClassification Report:\\n\", classification_report(y_test, predictions))"
   ]
  },
  {
   "cell_type": "code",
   "execution_count": 26,
   "id": "aa98b05b",
   "metadata": {},
   "outputs": [
    {
     "data": {
      "text/plain": [
       "0.7359360359474247"
      ]
     },
     "execution_count": 26,
     "metadata": {},
     "output_type": "execute_result"
    }
   ],
   "source": [
    "# ROC Curve\n",
    "KNN_fpr, KNN_tpr, _ = roc_curve(y_test, knn_model.predict_proba(X_test)[:, 1],pos_label='Yes')\n",
    "# AUC\n",
    "KNN_auc_score = auc(KNN_fpr, KNN_tpr)\n",
    "KNN_auc_score"
   ]
  },
  {
   "cell_type": "markdown",
   "id": "d641a07c",
   "metadata": {},
   "source": [
    "## Decision Tree (DT)"
   ]
  },
  {
   "cell_type": "code",
   "execution_count": 27,
   "id": "4f37dd6c",
   "metadata": {},
   "outputs": [
    {
     "data": {
      "text/plain": [
       "('Accuracy:  0.7128642501776831',\n",
       " 'Precision:  0.4626865671641791',\n",
       " 'Recall:  0.49732620320855614',\n",
       " 'F1-Score:  0.4793814432989691')"
      ]
     },
     "execution_count": 27,
     "metadata": {},
     "output_type": "execute_result"
    }
   ],
   "source": [
    "from sklearn.tree import DecisionTreeClassifier\n",
    "\n",
    "# Create the DecisionTreeClassifier\n",
    "dt_model = DecisionTreeClassifier(random_state=42)\n",
    "\n",
    "# Train the model\n",
    "dt_model.fit(X_train, y_train)\n",
    "\n",
    "# Make predictions\n",
    "predictions = dt_model.predict(X_test)\n",
    "\n",
    "#Evaluate the model performance\n",
    "evaluate_model(y_test,predictions)"
   ]
  },
  {
   "cell_type": "code",
   "execution_count": 28,
   "id": "85bbf8e8",
   "metadata": {},
   "outputs": [
    {
     "data": {
      "text/plain": [
       "('Accuracy:  0.7128642501776831',\n",
       " 'Precision:  0.4626865671641791',\n",
       " 'Recall:  0.49732620320855614',\n",
       " 'Specificity: 0.7909002904162633',\n",
       " 'F1Score: 0.4793814432989691')"
      ]
     },
     "execution_count": 28,
     "metadata": {},
     "output_type": "execute_result"
    }
   ],
   "source": [
    "# Evaluating the model performance using manual calculation function\n",
    "tn, fp, fn, tp = confusion_matrix(y_test, predictions).ravel()\n",
    "manual_model_evaluation(tn,fp,fn,tp)"
   ]
  },
  {
   "cell_type": "code",
   "execution_count": 29,
   "id": "908a50fc",
   "metadata": {},
   "outputs": [
    {
     "data": {
      "text/html": [
       "<div>\n",
       "<style scoped>\n",
       "    .dataframe tbody tr th:only-of-type {\n",
       "        vertical-align: middle;\n",
       "    }\n",
       "\n",
       "    .dataframe tbody tr th {\n",
       "        vertical-align: top;\n",
       "    }\n",
       "\n",
       "    .dataframe thead tr th {\n",
       "        text-align: left;\n",
       "    }\n",
       "</style>\n",
       "<table border=\"1\" class=\"dataframe\">\n",
       "  <thead>\n",
       "    <tr>\n",
       "      <th></th>\n",
       "      <th></th>\n",
       "      <th colspan=\"2\" halign=\"left\">Predicted</th>\n",
       "    </tr>\n",
       "    <tr>\n",
       "      <th></th>\n",
       "      <th></th>\n",
       "      <th>Yes</th>\n",
       "      <th>No</th>\n",
       "    </tr>\n",
       "  </thead>\n",
       "  <tbody>\n",
       "    <tr>\n",
       "      <th rowspan=\"2\" valign=\"top\">Actual</th>\n",
       "      <th>Yes</th>\n",
       "      <td>817</td>\n",
       "      <td>216</td>\n",
       "    </tr>\n",
       "    <tr>\n",
       "      <th>No</th>\n",
       "      <td>188</td>\n",
       "      <td>186</td>\n",
       "    </tr>\n",
       "  </tbody>\n",
       "</table>\n",
       "</div>"
      ],
      "text/plain": [
       "           Predicted     \n",
       "                 Yes   No\n",
       "Actual Yes       817  216\n",
       "       No        188  186"
      ]
     },
     "execution_count": 29,
     "metadata": {},
     "output_type": "execute_result"
    }
   ],
   "source": [
    "# Show the Confusion Matrix\n",
    "pd.DataFrame(confusion_matrix(y_test, predictions), index=rows, columns=columns)"
   ]
  },
  {
   "cell_type": "code",
   "execution_count": 30,
   "id": "f9cd2be1",
   "metadata": {},
   "outputs": [
    {
     "name": "stdout",
     "output_type": "stream",
     "text": [
      "\n",
      "Classification Report:\n",
      "               precision    recall  f1-score   support\n",
      "\n",
      "          No       0.81      0.79      0.80      1033\n",
      "         Yes       0.46      0.50      0.48       374\n",
      "\n",
      "    accuracy                           0.71      1407\n",
      "   macro avg       0.64      0.64      0.64      1407\n",
      "weighted avg       0.72      0.71      0.72      1407\n",
      "\n"
     ]
    }
   ],
   "source": [
    "print(f\"\\nClassification Report:\\n\", classification_report(y_test, predictions))"
   ]
  },
  {
   "cell_type": "code",
   "execution_count": 31,
   "id": "6e5c9872",
   "metadata": {},
   "outputs": [
    {
     "data": {
      "text/plain": [
       "0.6433833235837677"
      ]
     },
     "execution_count": 31,
     "metadata": {},
     "output_type": "execute_result"
    }
   ],
   "source": [
    "# ROC Curve\n",
    "DT_fpr, DT_tpr, _ = roc_curve(y_test, dt_model.predict_proba(X_test)[:, 1],pos_label='Yes')\n",
    "# AUC\n",
    "DT_auc_score = auc(DT_fpr, DT_tpr)\n",
    "DT_auc_score"
   ]
  },
  {
   "cell_type": "markdown",
   "id": "a4f1053b",
   "metadata": {},
   "source": [
    "## Random Forest (RF)"
   ]
  },
  {
   "cell_type": "code",
   "execution_count": 32,
   "id": "d44a2eb4",
   "metadata": {},
   "outputs": [
    {
     "data": {
      "text/plain": [
       "('Accuracy:  0.7739872068230277',\n",
       " 'Precision:  0.6007194244604317',\n",
       " 'Recall:  0.446524064171123',\n",
       " 'F1-Score:  0.5122699386503068')"
      ]
     },
     "execution_count": 32,
     "metadata": {},
     "output_type": "execute_result"
    }
   ],
   "source": [
    "from sklearn.ensemble import RandomForestClassifier\n",
    "\n",
    "# Create a Random Forest Classifier\n",
    "rf_model = RandomForestClassifier()\n",
    "\n",
    "# Train the model\n",
    "rf_model.fit(X_train, y_train)\n",
    "\n",
    "# Make Predictions on thetest data\n",
    "predictions = rf_model.predict(X_test)\n",
    "\n",
    "# Evaluate the Model Performance\n",
    "evaluate_model(y_test,predictions)"
   ]
  },
  {
   "cell_type": "code",
   "execution_count": 33,
   "id": "dc279453",
   "metadata": {},
   "outputs": [
    {
     "data": {
      "text/plain": [
       "('Accuracy:  0.7739872068230277',\n",
       " 'Precision:  0.6007194244604317',\n",
       " 'Recall:  0.446524064171123',\n",
       " 'Specificity: 0.8925459825750242',\n",
       " 'F1Score: 0.5122699386503068')"
      ]
     },
     "execution_count": 33,
     "metadata": {},
     "output_type": "execute_result"
    }
   ],
   "source": [
    "# Evaluating the model performance using manual calculation function\n",
    "tn, fp, fn, tp = confusion_matrix(y_test, predictions).ravel()\n",
    "manual_model_evaluation(tn,fp,fn,tp)"
   ]
  },
  {
   "cell_type": "code",
   "execution_count": 34,
   "id": "5649a2e2",
   "metadata": {},
   "outputs": [
    {
     "data": {
      "text/html": [
       "<div>\n",
       "<style scoped>\n",
       "    .dataframe tbody tr th:only-of-type {\n",
       "        vertical-align: middle;\n",
       "    }\n",
       "\n",
       "    .dataframe tbody tr th {\n",
       "        vertical-align: top;\n",
       "    }\n",
       "\n",
       "    .dataframe thead tr th {\n",
       "        text-align: left;\n",
       "    }\n",
       "</style>\n",
       "<table border=\"1\" class=\"dataframe\">\n",
       "  <thead>\n",
       "    <tr>\n",
       "      <th></th>\n",
       "      <th></th>\n",
       "      <th colspan=\"2\" halign=\"left\">Predicted</th>\n",
       "    </tr>\n",
       "    <tr>\n",
       "      <th></th>\n",
       "      <th></th>\n",
       "      <th>Yes</th>\n",
       "      <th>No</th>\n",
       "    </tr>\n",
       "  </thead>\n",
       "  <tbody>\n",
       "    <tr>\n",
       "      <th rowspan=\"2\" valign=\"top\">Actual</th>\n",
       "      <th>Yes</th>\n",
       "      <td>922</td>\n",
       "      <td>111</td>\n",
       "    </tr>\n",
       "    <tr>\n",
       "      <th>No</th>\n",
       "      <td>207</td>\n",
       "      <td>167</td>\n",
       "    </tr>\n",
       "  </tbody>\n",
       "</table>\n",
       "</div>"
      ],
      "text/plain": [
       "           Predicted     \n",
       "                 Yes   No\n",
       "Actual Yes       922  111\n",
       "       No        207  167"
      ]
     },
     "execution_count": 34,
     "metadata": {},
     "output_type": "execute_result"
    }
   ],
   "source": [
    "# Show the Confusion Matrix\n",
    "pd.DataFrame(confusion_matrix(y_test, predictions), index=rows, columns=columns)"
   ]
  },
  {
   "cell_type": "code",
   "execution_count": 35,
   "id": "4ed0fba6",
   "metadata": {},
   "outputs": [
    {
     "name": "stdout",
     "output_type": "stream",
     "text": [
      "\n",
      "Classification Report:\n",
      "               precision    recall  f1-score   support\n",
      "\n",
      "          No       0.82      0.89      0.85      1033\n",
      "         Yes       0.60      0.45      0.51       374\n",
      "\n",
      "    accuracy                           0.77      1407\n",
      "   macro avg       0.71      0.67      0.68      1407\n",
      "weighted avg       0.76      0.77      0.76      1407\n",
      "\n"
     ]
    }
   ],
   "source": [
    "print(f\"\\nClassification Report:\\n\", classification_report(y_test, predictions))"
   ]
  },
  {
   "cell_type": "code",
   "execution_count": 36,
   "id": "a6e679b4",
   "metadata": {},
   "outputs": [
    {
     "data": {
      "text/plain": [
       "0.8076587583022296"
      ]
     },
     "execution_count": 36,
     "metadata": {},
     "output_type": "execute_result"
    }
   ],
   "source": [
    "# ROC Curve\n",
    "RF_fpr, RF_tpr, _ = roc_curve(y_test, rf_model.predict_proba(X_test)[:, 1],pos_label='Yes')\n",
    "# AUC\n",
    "RF_auc_score = auc(RF_fpr, RF_tpr)\n",
    "RF_auc_score"
   ]
  },
  {
   "cell_type": "markdown",
   "id": "d540b3cd",
   "metadata": {},
   "source": [
    "## XGBoost Algorithm (XGB)\n",
    "- installing xgboost\n",
    "- xgboost only accepts binary labels 0 and 1\n",
    "- So, Labelencoding the target variable\n",
    "- What is mapped to 0 and 1. **CHECK**"
   ]
  },
  {
   "cell_type": "code",
   "execution_count": 37,
   "id": "02f097f1",
   "metadata": {},
   "outputs": [
    {
     "name": "stdout",
     "output_type": "stream",
     "text": [
      "Requirement already satisfied: xgboost in /Users/swethavoora/anaconda3/lib/python3.10/site-packages (2.0.2)\n",
      "Requirement already satisfied: numpy in /Users/swethavoora/anaconda3/lib/python3.10/site-packages (from xgboost) (1.23.5)\n",
      "Requirement already satisfied: scipy in /Users/swethavoora/anaconda3/lib/python3.10/site-packages (from xgboost) (1.10.0)\n",
      "Note: you may need to restart the kernel to use updated packages.\n"
     ]
    }
   ],
   "source": [
    "pip install xgboost"
   ]
  },
  {
   "cell_type": "code",
   "execution_count": 38,
   "id": "cc5fa17a",
   "metadata": {},
   "outputs": [],
   "source": [
    "import xgboost as xgb\n",
    "from sklearn.preprocessing import LabelEncoder"
   ]
  },
  {
   "cell_type": "code",
   "execution_count": 39,
   "id": "888fb1eb",
   "metadata": {},
   "outputs": [],
   "source": [
    "# Instantiate the LabelEncoder\n",
    "# To encode the churn YES to 1 and NO to 0 as xgboost only accepts numerical target labels\n",
    "label_encoder = LabelEncoder()\n",
    "\n",
    "# Fit and transform the target variable\n",
    "y_train_encoded = label_encoder.fit_transform(y_train)\n",
    "y_test_encoded = label_encoder.transform(y_test)"
   ]
  },
  {
   "cell_type": "code",
   "execution_count": 40,
   "id": "11d8f915",
   "metadata": {},
   "outputs": [
    {
     "name": "stdout",
     "output_type": "stream",
     "text": [
      "{'No': 0, 'Yes': 1}\n"
     ]
    }
   ],
   "source": [
    "# Check the mapping\n",
    "label_mapping = dict(zip(label_encoder.classes_, label_encoder.transform(label_encoder.classes_)))\n",
    "\n",
    "# Print the mapping\n",
    "print(label_mapping)"
   ]
  },
  {
   "cell_type": "code",
   "execution_count": 41,
   "id": "b7c960f6",
   "metadata": {},
   "outputs": [],
   "source": [
    "# Create the xgboost classifier\n",
    "xg_model = xgb.XGBClassifier()\n",
    "\n",
    "# Now, you can train your XGBoost model\n",
    "xg_model.fit(X_train, y_train_encoded)\n",
    "\n",
    "# Make predictions\n",
    "predictions = xg_model.predict(X_test)"
   ]
  },
  {
   "cell_type": "code",
   "execution_count": 43,
   "id": "102cb699",
   "metadata": {},
   "outputs": [],
   "source": [
    "def evaluate_model_xgb(y_true, y_pred):\n",
    "    accuracy = accuracy_score(y_true, y_pred)\n",
    "    precision = precision_score(y_true, y_pred,pos_label=1)\n",
    "    recall = recall_score(y_true, y_pred,pos_label=1)\n",
    "    f1 = f1_score(y_true, y_pred,pos_label=1)\n",
    "    return \"Accuracy:  \"+ str(accuracy),\"Precision:  \"+ str(precision),\"Recall:  \" +str(recall),\"F1-Score:  \"+ str(f1)"
   ]
  },
  {
   "cell_type": "code",
   "execution_count": 44,
   "id": "21102291",
   "metadata": {},
   "outputs": [
    {
     "data": {
      "text/plain": [
       "('Accuracy:  0.7654584221748401',\n",
       " 'Precision:  0.56875',\n",
       " 'Recall:  0.48663101604278075',\n",
       " 'F1-Score:  0.5244956772334293')"
      ]
     },
     "execution_count": 44,
     "metadata": {},
     "output_type": "execute_result"
    }
   ],
   "source": [
    "# Evaluate the model\n",
    "evaluate_model_xgb(y_test_encoded,predictions)"
   ]
  },
  {
   "cell_type": "code",
   "execution_count": 45,
   "id": "284c1340",
   "metadata": {},
   "outputs": [
    {
     "data": {
      "text/plain": [
       "('Accuracy:  0.7654584221748401',\n",
       " 'Precision:  0.56875',\n",
       " 'Recall:  0.48663101604278075',\n",
       " 'Specificity: 0.8664085188770572',\n",
       " 'F1Score: 0.5244956772334293')"
      ]
     },
     "execution_count": 45,
     "metadata": {},
     "output_type": "execute_result"
    }
   ],
   "source": [
    "# Evaluating the model performance using manual calculation function\n",
    "tn, fp, fn, tp = confusion_matrix(y_test_encoded, predictions).ravel()\n",
    "manual_model_evaluation(tn,fp,fn,tp)"
   ]
  },
  {
   "cell_type": "code",
   "execution_count": 46,
   "id": "ad7a5455",
   "metadata": {},
   "outputs": [
    {
     "data": {
      "text/html": [
       "<div>\n",
       "<style scoped>\n",
       "    .dataframe tbody tr th:only-of-type {\n",
       "        vertical-align: middle;\n",
       "    }\n",
       "\n",
       "    .dataframe tbody tr th {\n",
       "        vertical-align: top;\n",
       "    }\n",
       "\n",
       "    .dataframe thead tr th {\n",
       "        text-align: left;\n",
       "    }\n",
       "</style>\n",
       "<table border=\"1\" class=\"dataframe\">\n",
       "  <thead>\n",
       "    <tr>\n",
       "      <th></th>\n",
       "      <th></th>\n",
       "      <th colspan=\"2\" halign=\"left\">Predicted</th>\n",
       "    </tr>\n",
       "    <tr>\n",
       "      <th></th>\n",
       "      <th></th>\n",
       "      <th>Yes</th>\n",
       "      <th>No</th>\n",
       "    </tr>\n",
       "  </thead>\n",
       "  <tbody>\n",
       "    <tr>\n",
       "      <th rowspan=\"2\" valign=\"top\">Actual</th>\n",
       "      <th>Yes</th>\n",
       "      <td>895</td>\n",
       "      <td>138</td>\n",
       "    </tr>\n",
       "    <tr>\n",
       "      <th>No</th>\n",
       "      <td>192</td>\n",
       "      <td>182</td>\n",
       "    </tr>\n",
       "  </tbody>\n",
       "</table>\n",
       "</div>"
      ],
      "text/plain": [
       "           Predicted     \n",
       "                 Yes   No\n",
       "Actual Yes       895  138\n",
       "       No        192  182"
      ]
     },
     "execution_count": 46,
     "metadata": {},
     "output_type": "execute_result"
    }
   ],
   "source": [
    "# Show the Confusion Matrix\n",
    "pd.DataFrame(confusion_matrix(y_test_encoded, predictions), index=rows, columns=columns)"
   ]
  },
  {
   "cell_type": "code",
   "execution_count": 47,
   "id": "46c9a2c9",
   "metadata": {},
   "outputs": [
    {
     "name": "stdout",
     "output_type": "stream",
     "text": [
      "\n",
      "Classification Report:\n",
      "               precision    recall  f1-score   support\n",
      "\n",
      "           0       0.82      0.87      0.84      1033\n",
      "           1       0.57      0.49      0.52       374\n",
      "\n",
      "    accuracy                           0.77      1407\n",
      "   macro avg       0.70      0.68      0.68      1407\n",
      "weighted avg       0.76      0.77      0.76      1407\n",
      "\n"
     ]
    }
   ],
   "source": [
    "print(f\"\\nClassification Report:\\n\", classification_report(y_test_encoded, predictions))"
   ]
  },
  {
   "cell_type": "code",
   "execution_count": 48,
   "id": "22156ee2",
   "metadata": {},
   "outputs": [
    {
     "data": {
      "text/plain": [
       "0.8100581867878719"
      ]
     },
     "execution_count": 48,
     "metadata": {},
     "output_type": "execute_result"
    }
   ],
   "source": [
    "# ROC Curve\n",
    "XG_fpr, XG_tpr, _ = roc_curve(y_test, xg_model.predict_proba(X_test)[:, 1],pos_label='Yes')\n",
    "# AUC\n",
    "XG_auc_score = auc(XG_fpr, XG_tpr)\n",
    "XG_auc_score"
   ]
  },
  {
   "cell_type": "markdown",
   "id": "261d679b",
   "metadata": {},
   "source": [
    "\n",
    "## Comparing the ROC Curves, and AUCs to understand which model performs best with default parameters"
   ]
  },
  {
   "cell_type": "code",
   "execution_count": 49,
   "id": "c20c3ff7",
   "metadata": {
    "scrolled": false
   },
   "outputs": [
    {
     "data": {
      "text/plain": [
       "<Axes: >"
      ]
     },
     "execution_count": 49,
     "metadata": {},
     "output_type": "execute_result"
    },
    {
     "data": {
      "image/png": "[encoded data removed]",
      "text/plain": [
       "<Figure size 2000x2500 with 8 Axes>"
      ]
     },
     "metadata": {},
     "output_type": "display_data"
    }
   ],
   "source": [
    "fig,axes = plt.subplots(4,2,figsize=(20,25))\n",
    "# LR Model\n",
    "axes[0,0].plot(LR_fpr, LR_tpr, label=f'{LRmodel} (AUC = {LR_auc_score:.2f})')\n",
    "axes[0,0].set_title('ROC CURVE COMPARISON')\n",
    "axes[0,0].set_xlabel('False Positive Rate')\n",
    "axes[0,0].set_ylabel('True Positive Rate')\n",
    "axes[0,0].legend(loc=\"best\")\n",
    "axes[0,1].plot(LR_fpr, LR_tpr, label=f'{LRmodel} (AUC = {LR_auc_score:.2f})',color='blue')\n",
    "axes[0,1].set_title('LR ROC CURVE')\n",
    "axes[0,1].set_xlabel('False Positive Rate')\n",
    "axes[0,1].set_ylabel('True Positive Rate')\n",
    "axes[0,1].legend(loc=\"best\")\n",
    "# BernoulliNB Model\n",
    "axes[0,0].plot(BNB_fpr, BNB_tpr, label=f'{Bnb_model} (AUC = {BNB_auc_score:.2f})')\n",
    "axes[0,0].set_xlabel('False Positive Rate')\n",
    "axes[0,0].set_ylabel('True Positive Rate')\n",
    "axes[0,0].legend(loc=\"best\")\n",
    "axes[1,0].plot(BNB_fpr, BNB_tpr, label=f'{Bnb_model} (AUC = {BNB_auc_score:.2f})',color='orange')\n",
    "axes[1,0].set_title('BNB ROC CURVE')\n",
    "axes[1,0].set_xlabel('False Positive Rate')\n",
    "axes[1,0].set_ylabel('True Positive Rate')\n",
    "axes[1,0].legend(loc=\"best\")\n",
    "# Multinominal NB Model\n",
    "# axes[0,0].plot(MNB_fpr, MNB_tpr, label=f'{Mnb_model} (AUC = {MNB_auc_score:.2f})')\n",
    "# axes[0,0].set_xlabel('False Positive Rate')\n",
    "# axes[0,0].set_ylabel('True Positive Rate')\n",
    "# axes[0,0].legend(loc=\"best\")\n",
    "# axes[1,1].plot(MNB_fpr, MNB_tpr, label=f'{Mnb_model} (AUC = {MNB_auc_score:.2f})',color='green')\n",
    "# axes[1,1].set_title('MNB ROC CURVE')\n",
    "# axes[1,1].set_xlabel('False Positive Rate')\n",
    "# axes[1,1].set_ylabel('True Positive Rate')\n",
    "# axes[1,1].legend(loc=\"best\")\n",
    "# KNN Model\n",
    "axes[0,0].plot(KNN_fpr, KNN_tpr, label=f'{knn_model} (AUC = {KNN_auc_score:.2f})')\n",
    "axes[0,0].set_xlabel('False Positive Rate')\n",
    "axes[0,0].set_ylabel('True Positive Rate')\n",
    "axes[0,0].legend(loc=\"best\")\n",
    "axes[1,1].plot(KNN_fpr, KNN_tpr, label=f'{knn_model} (AUC = {KNN_auc_score:.2f})',color='red')\n",
    "axes[1,1].set_title('KNN ROC CURVE')\n",
    "axes[1,1].set_xlabel('False Positive Rate')\n",
    "axes[1,1].set_ylabel('True Positive Rate')\n",
    "axes[1,1].legend(loc=\"best\")\n",
    "# Decision Tree Model\n",
    "axes[0,0].plot(DT_fpr, DT_tpr, label=f'{dt_model} (AUC = {DT_auc_score:.2f})')\n",
    "axes[0,0].set_xlabel('False Positive Rate')\n",
    "axes[0,0].set_ylabel('True Positive Rate')\n",
    "axes[0,0].legend(loc=\"best\")\n",
    "axes[2,0].plot(DT_fpr, DT_tpr, label=f'{dt_model} (AUC = {DT_auc_score:.2f})',color='purple')\n",
    "axes[2,0].set_title('DT ROC CURVE')\n",
    "axes[2,0].set_xlabel('False Positive Rate')\n",
    "axes[2,0].set_ylabel('True Positive Rate')\n",
    "axes[2,0].legend(loc=\"best\")\n",
    "# Random Forest Model\n",
    "axes[0,0].plot(RF_fpr, RF_tpr, label=f'{rf_model} (AUC = {RF_auc_score:.2f})')\n",
    "axes[0,0].set_xlabel('False Positive Rate')\n",
    "axes[0,0].set_ylabel('True Positive Rate')\n",
    "axes[0,0].legend(loc=\"best\")\n",
    "axes[2,1].plot(RF_fpr, RF_tpr, label=f'{rf_model} (AUC = {RF_auc_score:.2f})',color='brown')\n",
    "axes[2,1].set_title('RF ROC CURVE')\n",
    "axes[2,1].set_xlabel('False Positive Rate')\n",
    "axes[2,1].set_ylabel('True Positive Rate')\n",
    "axes[2,1].legend(loc=\"best\")\n",
    "# XG Boost Model\n",
    "axes[0,0].plot(XG_fpr, XG_tpr, label=f'{xg_model} (AUC = {XG_auc_score:.2f})')\n",
    "axes[0,0].set_xlabel('False Positive Rate')\n",
    "axes[0,0].set_ylabel('True Positive Rate')\n",
    "# axes[0,0].legend(loc=\"best\")\n",
    "axes[3,0].plot(XG_fpr, XG_tpr, label=f'{xg_model} (AUC = {XG_auc_score:.2f})',color='pink')\n",
    "axes[3,0].set_title('XGB ROC CURVE')\n",
    "axes[3,0].set_xlabel('False Positive Rate')\n",
    "axes[3,0].set_ylabel('True Positive Rate')\n",
    "axes[3,0].legend(loc=\"lower right\")\n",
    "axes[3,1]"
   ]
  },
  {
   "cell_type": "markdown",
   "id": "cf79a66d",
   "metadata": {},
   "source": [
    "## CONCLUSION"
   ]
  },
  {
   "cell_type": "markdown",
   "id": "ac8e2b9d",
   "metadata": {},
   "source": [
    "##  Which model performs the best with default parameters\n",
    "#\n",
    "- **<font color='orange'>0.83 - Logistic Regression [1]</font>**\n",
    "- **<font color='pink'>0.81 - Random Forest Classifier [2]</font>**\n",
    "- **<font color='lightblue'>0.81 - XGBoost [3]</font>**\n",
    "- 0.80 - Bernoulli Naive Bayes\n",
    "- 0.74 - KNN Classifier\n",
    "- 0.64 - Decision Tree Classifier\n",
    "### Based on AUC - Logistic Regression Model works the best with default parameters\n",
    "#\n",
    "- **<font color='orange'>'F1-Score:  0.5873170731707317'-BernoulliNB [1]</font>**\n",
    "- **<font color='pink'>'F1-Score:  0.5630498533724341'-Logistic Regression [2]</font>**\n",
    "- **<font color='lightblue'>'F1-Score:  0.5272727272727273'-Random Forest Classifier [3]</font>**\n",
    "- 'F1-Score:  0.5105740181268882'-KNN Classifier\n",
    "- 'F1-Score:  0.4793814432989691'-DecisionTree Classifier\n",
    "- 'F1-Score:  0.5244956772334293'-XGBoost Classifier\n",
    "### Based on F1Score - Naive Bayes Model works the best for default parameters"
   ]
  },
  {
   "cell_type": "markdown",
   "id": "7f0ff725",
   "metadata": {},
   "source": [
    "# Hyperparameters tuning"
   ]
  },
  {
   "cell_type": "markdown",
   "id": "19d888cf",
   "metadata": {},
   "source": [
    "## KNN Hyperparameters Tuning"
   ]
  },
  {
   "cell_type": "code",
   "execution_count": 50,
   "id": "ca95c880",
   "metadata": {},
   "outputs": [
    {
     "data": {
      "text/plain": [
       "('Accuracy:  0.7839374555792467',\n",
       " 'Precision:  0.6182432432432432',\n",
       " 'Recall:  0.4893048128342246',\n",
       " 'F1-Score:  0.5462686567164179')"
      ]
     },
     "execution_count": 50,
     "metadata": {},
     "output_type": "execute_result"
    }
   ],
   "source": [
    "from sklearn.neighbors import KNeighborsClassifier\n",
    "\n",
    "# Create a KNeighborsClassifier model\n",
    "# knn_model = KNeighborsClassifier(n_neighbors = 8, weights='distance',algorithm='kd_tree',p=1,metric='l1')\n",
    "knn_model = KNeighborsClassifier(n_neighbors = 8, weights='distance',algorithm='ball_tree',p=1,metric='manhattan')\n",
    "# knn_model = KNeighborsClassifier(n_neighbors = 8, weights='distance',algorithm='ball_tree',p=1,metric='chebyshev')\n",
    "\n",
    "# Train the model\n",
    "knn_model.fit(X_train, y_train)\n",
    "\n",
    "# Make predictions on the test set\n",
    "predictions = knn_model.predict(X_test)\n",
    "\n",
    "# Evaluate the model performance\n",
    "evaluate_model(y_test,predictions)"
   ]
  },
  {
   "cell_type": "markdown",
   "id": "4e452419",
   "metadata": {},
   "source": [
    "#### We can see that the F1 score of KNN Model has increased from 0.5105740181268882 to 0.5462686567164179 after Hyperparameter Tuning."
   ]
  },
  {
   "cell_type": "markdown",
   "id": "b925f1c8",
   "metadata": {},
   "source": [
    "## RF Hyperparameters Tuning"
   ]
  },
  {
   "cell_type": "code",
   "execution_count": 217,
   "id": "148dfd6d",
   "metadata": {},
   "outputs": [
    {
     "data": {
      "text/plain": [
       "('Accuracy:  0.7874911158493249',\n",
       " 'Precision:  0.6237623762376238',\n",
       " 'Recall:  0.5053475935828877',\n",
       " 'F1-Score:  0.5583456425406204')"
      ]
     },
     "execution_count": 217,
     "metadata": {},
     "output_type": "execute_result"
    }
   ],
   "source": [
    "from sklearn.ensemble import RandomForestClassifier\n",
    "\n",
    "# Create a Random Forest Classifier\n",
    "rf_model = RandomForestClassifier(n_estimators=130,\n",
    "    criterion='gini',\n",
    "    max_depth=None,\n",
    "    min_samples_split=2,\n",
    "    min_samples_leaf=1,\n",
    "    min_weight_fraction_leaf=0.0,\n",
    "    max_features=None)\n",
    "\n",
    "# Train the model\n",
    "rf_model.fit(X_train, y_train)\n",
    "\n",
    "# Make Predictions on thetest data\n",
    "predictions = rf_model.predict(X_test)\n",
    "\n",
    "# Evaluate the Model Performance\n",
    "evaluate_model(y_test,predictions)"
   ]
  },
  {
   "cell_type": "markdown",
   "id": "bf1a528c",
   "metadata": {},
   "source": [
    "#### We can see that the F1 score of RF Model has increased from 0.5272727272727273 to 0.5583456425406204 after Hyperparameter Tuning."
   ]
  },
  {
   "cell_type": "markdown",
   "id": "43f42098",
   "metadata": {},
   "source": [
    "## Tuning XGBoost Hyperparameters"
   ]
  },
  {
   "cell_type": "code",
   "execution_count": 51,
   "id": "2e9b3fdc",
   "metadata": {},
   "outputs": [
    {
     "data": {
      "text/plain": [
       "('Accuracy:  0.7242359630419332',\n",
       " 'Precision:  0.4866920152091255',\n",
       " 'Recall:  0.6844919786096256',\n",
       " 'F1-Score:  0.5688888888888889')"
      ]
     },
     "execution_count": 51,
     "metadata": {},
     "output_type": "execute_result"
    }
   ],
   "source": [
    "# Create the xgboost classifier\n",
    "xg_model = xgb.XGBClassifier(learning_rate=11,n_estimators=200)\n",
    "\n",
    "# Now, you can train your XGBoost model\n",
    "xg_model.fit(X_train, y_train_encoded)\n",
    "\n",
    "# Make predictions\n",
    "predictions = xg_model.predict(X_test)\n",
    "\n",
    "# Evaluate the model\n",
    "evaluate_model_xgb(y_test_encoded,predictions)"
   ]
  },
  {
   "cell_type": "markdown",
   "id": "efbbe197",
   "metadata": {},
   "source": [
    "#### We can see that the F1 score of XGBoost Model has increased from 0.5244956772334293 to 0.5688888888888889 after Hyperparameter Tuning."
   ]
  },
  {
   "cell_type": "markdown",
   "id": "2577703a",
   "metadata": {},
   "source": [
    "## After hyperparameter tuning, We see that the order of model performance(best to low) has changed below:"
   ]
  },
  {
   "cell_type": "markdown",
   "id": "7abb9582",
   "metadata": {},
   "source": [
    "\n",
    "- **<font color='orange'>'F1-Score:  0.5873170731707317'-BernoulliNB [1]</font>**\n",
    "- **<font color='pink'>'F1-Score:  0.5688888888888889'-XGBoost Classifier[2]</font>**\n",
    "- **<font color='lightblue'>'F1-Score:  0.5583456425406204'-Random Forest Classifier [3]</font>**\n",
    "- 'F1-Score:  0.5105740181268882'-KNN Classifier\n",
    "- 'F1-Score:  0.4793814432989691'-DecisionTree Classifier\n",
    "- 'F1-Score:  0.5630498533724341'-Logistic Regression \n",
    "### Based on F1Score - Naive Bayes Model works the best even after hyperparameter tuning"
   ]
  }
 ],
 "metadata": {
  "kernelspec": {
   "display_name": "Python 3 (ipykernel)",
   "language": "python",
   "name": "python3"
  },
  "language_info": {
   "codemirror_mode": {
    "name": "ipython",
    "version": 3
   },
   "file_extension": ".py",
   "mimetype": "text/x-python",
   "name": "python",
   "nbconvert_exporter": "python",
   "pygments_lexer": "ipython3",
   "version": "3.10.9"
  }
 },
 "nbformat": 4,
 "nbformat_minor": 5
}
